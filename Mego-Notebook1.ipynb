{
    "cells": [
        {
            "cell_type": "markdown",
            "metadata": {},
            "source": "# Johns Hopkins data example"
        },
        {
            "cell_type": "code",
            "execution_count": 1,
            "metadata": {},
            "outputs": [],
            "source": "import pandas as pd\nimport os\nfrom datetime import datetime\n\nINPUT_PATH = 'input/jh/'\nOUTPUT_PATH = 'public/data/jh/'\n\nPOPULATION_CSV_PATH = os.path.join(INPUT_PATH, 'population_thousands.csv')\nREGIONS_CSV_PATH = os.path.join(INPUT_PATH, 'regions.csv')\nCASES_CSV_PATH = os.path.join(INPUT_PATH, 'cases.csv')\nDEATHS_CSV_PATH = os.path.join(INPUT_PATH, 'deaths.csv')\nRECOVERED_CSV_PATH = os.path.join(INPUT_PATH, 'recovered.csv')\n\nINDEX_COLUMNS = ['Country/Region', 'Province/State']"
        },
        {
            "cell_type": "code",
            "execution_count": 2,
            "metadata": {},
            "outputs": [
                {
                    "data": {
                        "text/plain": "1"
                    },
                    "execution_count": 2,
                    "metadata": {},
                    "output_type": "execute_result"
                }
            ],
            "source": "!mkdir -p $OUTPUT_PATH"
        },
        {
            "cell_type": "code",
            "execution_count": null,
            "metadata": {},
            "outputs": [],
            "source": "!curl -Lo $INPUT_PATH/cases.csv https://github.com/CSSEGISandData/COVID-19/raw/master/csse_covid_19_data/csse_covid_19_time_series/time_series_19-covid-Confirmed.csv\n!curl -Lo $INPUT_PATH/deaths.csv https://github.com/CSSEGISandData/COVID-19/raw/master/csse_covid_19_data/csse_covid_19_time_series/time_series_19-covid-Deaths.csv\n!curl -Lo $INPUT_PATH/recovered.csv https://github.com/CSSEGISandData/COVID-19/raw/master/csse_covid_19_data/csse_covid_19_time_series/time_series_19-covid-Recovered.csv"
        },
        {
            "cell_type": "code",
            "execution_count": null,
            "metadata": {},
            "outputs": [],
            "source": "df_regions = pd.read_csv(REGIONS_CSV_PATH, index_col=INDEX_COLUMNS)"
        },
        {
            "cell_type": "code",
            "execution_count": null,
            "metadata": {},
            "outputs": [],
            "source": "df_current_regions = pd.concat([\n    pd.read_csv(path)[INDEX_COLUMNS]\n    for path in [\n        CASES_CSV_PATH,\n        DEATHS_CSV_PATH,\n        RECOVERIES_CSV_PATH\n    ]\n]) \\\n.drop_duplicates() \\\n.sort_values(by=INDEX_COLUMNS) \\\n.merge(\n    df_regions,\n    how='left',\n    on=INDEX_COLUMNS\n)"
        },
        {
            "cell_type": "code",
            "execution_count": null,
            "metadata": {},
            "outputs": [],
            "source": "if df_current_regions['OWID Country Name'].isnull().any():\n    print(\"Please add country mappings for: \")\n    print(df_current_regions[df_current_regions['OWID Country Name'].isnull()])\n    df_current_regions.to_csv('to_standardize.csv', index=False)\n    assert False"
        }
    ],
    "metadata": {
        "kernelspec": {
            "display_name": "Python 3.6",
            "language": "python",
            "name": "python3"
        },
        "language_info": {
            "codemirror_mode": {
                "name": "ipython",
                "version": 3
            },
            "file_extension": ".py",
            "mimetype": "text/x-python",
            "name": "python",
            "nbconvert_exporter": "python",
            "pygments_lexer": "ipython3",
            "version": "3.6.9"
        }
    },
    "nbformat": 4,
    "nbformat_minor": 1
}